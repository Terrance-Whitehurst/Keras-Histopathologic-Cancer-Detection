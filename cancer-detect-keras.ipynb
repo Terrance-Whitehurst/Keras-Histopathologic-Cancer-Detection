{
 "cells": [
  {
   "cell_type": "code",
   "execution_count": 1,
   "metadata": {
    "_cell_guid": "79c7e3d0-c299-4dcb-8224-4455121ee9b0",
    "_uuid": "d629ff2d2480ee46fbb7e2d37f6b5fab8052498a"
   },
   "outputs": [
    {
     "name": "stderr",
     "output_type": "stream",
     "text": [
      "Using TensorFlow backend.\n"
     ]
    }
   ],
   "source": [
    "#-------Import Dependencies-------#\n",
    "import pandas as pd\n",
    "import os,shutil,math\n",
    "import numpy as np\n",
    "import matplotlib.pyplot as plt\n",
    "\n",
    "from sklearn.utils import shuffle\n",
    "from sklearn.metrics import classification_report\n",
    "from sklearn.model_selection import train_test_split\n",
    "from sklearn.metrics import confusion_matrix,roc_curve,auc\n",
    "\n",
    "from PIL import Image\n",
    "from PIL import ImageDraw\n",
    "from glob import glob\n",
    "from tqdm import tqdm\n",
    "from skimage.io import imread\n",
    "from IPython.display import SVG\n",
    "\n",
    "from keras.utils.vis_utils import model_to_dot\n",
    "from keras.applications.vgg19 import VGG19,preprocess_input\n",
    "from keras.applications.xception import Xception\n",
    "from keras.applications.nasnet import NASNetMobile\n",
    "from keras.models import Sequential,Input,Model\n",
    "from keras.layers import Dense,Flatten,Dropout,Concatenate,GlobalAveragePooling2D\n",
    "from keras.preprocessing.image import ImageDataGenerator\n",
    "from keras.optimizers import Adam,SGD\n",
    "from keras.utils.vis_utils import plot_model\n",
    "from keras.callbacks import ModelCheckpoint,EarlyStopping,TensorBoard,CSVLogger,ReduceLROnPlateau,LearningRateScheduler"
   ]
  },
  {
   "cell_type": "code",
   "execution_count": 2,
   "metadata": {
    "_uuid": "34ec65cfa4ddef229302e5d067324143ed5094f9"
   },
   "outputs": [],
   "source": [
    "#-----In case you want to use a learning rate scheduler from keras this is a good step decay function to play around with-----#\n",
    "def step_decay(epoch):\n",
    "    initial_lrate=0.1\n",
    "    drop=0.6\n",
    "    epochs_drop = 3.0\n",
    "    lrate= initial_lrate * math.pow(drop,math.floor((1+epoch)/epochs_drop))\n",
    "    return lrate"
   ]
  },
  {
   "cell_type": "code",
   "execution_count": 3,
   "metadata": {
    "_uuid": "2c8d8745d66af1e77e5e8a4648d3f5d3c7ab2d57",
    "scrolled": true
   },
   "outputs": [],
   "source": [
    "#----Custom function to visualize the training of the model------#\n",
    "def show_final_history(history):\n",
    "    fig, ax = plt.subplots(1, 2, figsize=(15,5))\n",
    "    ax[0].set_title('loss')\n",
    "    ax[0].plot(history.epoch, history.history[\"loss\"], label=\"Train loss\")\n",
    "    ax[0].plot(history.epoch, history.history[\"val_loss\"], label=\"Validation loss\")\n",
    "    ax[1].set_title('acc')\n",
    "    ax[1].plot(history.epoch, history.history[\"acc\"], label=\"Train acc\")\n",
    "    ax[1].plot(history.epoch, history.history[\"val_acc\"], label=\"Validation acc\")\n",
    "    ax[0].legend()\n",
    "    ax[1].legend()"
   ]
  },
  {
   "cell_type": "code",
   "execution_count": 4,
   "metadata": {
    "_uuid": "2914bdc95d3cc38fcf4669456c168a650a23fa36"
   },
   "outputs": [],
   "source": [
    "TRAINING_LOGS_FILE = \"training_logs.csv\"\n",
    "MODEL_SUMMARY_FILE = \"model_summary.txt\"\n",
    "MODEL_FILE = \"histopathologic_cancer_detector.h5\"\n",
    "TRAINING_PLOT_FILE = \"training.png\"\n",
    "VALIDATION_PLOT_FILE = \"validation.png\"\n",
    "ROC_PLOT_FILE = \"roc.png\"\n",
    "KAGGLE_SUBMISSION_FILE = \"kaggle_submission.csv\"\n",
    "INPUT_DIR = '../input/'\n",
    "SAMPLE_COUNT = 60000\n",
    "TESTING_BATCH_SIZE = 5000"
   ]
  },
  {
   "cell_type": "code",
   "execution_count": 5,
   "metadata": {
    "_uuid": "1fa1b8b5c7947cf89f737ba9267fa74fbb63b315"
   },
   "outputs": [],
   "source": [
    "training_dir = INPUT_DIR + 'train/'\n",
    "\n",
    "df = pd.DataFrame({'path': glob(os.path.join(training_dir,'*.tif'))})\n",
    "\n",
    "df['id'] = df.path.map(lambda x: x.split('/')[3].split('.')[0])\n",
    "\n",
    "labels = pd.read_csv(INPUT_DIR + 'train_labels.csv')\n",
    "\n",
    "df = df.merge(labels,on='id')\n",
    "\n",
    "negative_values = df[df.label == 0].sample(SAMPLE_COUNT)\n",
    "positive_values = df[df.label == 1].sample(SAMPLE_COUNT)\n",
    "\n",
    "df = pd.concat([negative_values,positive_values]).reset_index()\n",
    "\n",
    "df = df[['path','id','label']]\n",
    "df['image'] = df['path'].map(imread)"
   ]
  },
  {
   "cell_type": "code",
   "execution_count": 6,
   "metadata": {
    "_uuid": "bd00eda3d6a914c1bcb4bf5fc8e8225d4cd6274c"
   },
   "outputs": [
    {
     "name": "stderr",
     "output_type": "stream",
     "text": [
      "/opt/conda/lib/python3.6/site-packages/sklearn/model_selection/_split.py:2179: FutureWarning: From version 0.21, test_size will always complement train_size unless both are specified.\n",
      "  FutureWarning)\n"
     ]
    }
   ],
   "source": [
    "train_path = '../training'\n",
    "val_path = '../validation'\n",
    "\n",
    "for directory in [train_path,val_path]:\n",
    "    for sub_directory in ['0','1']:\n",
    "        path = os.path.join(directory,sub_directory)\n",
    "        os.makedirs(path,exist_ok=True)\n",
    "        \n",
    "train,val = train_test_split(df,train_size=0.8,stratify=df['label'])\n",
    "df.set_index('id',inplace=True)\n",
    "\n",
    "for images_paths in [(train,train_path),(val,val_path)]:\n",
    "    images = images_paths[0]\n",
    "    path = images_paths[1]\n",
    "    for image in images['id'].values:\n",
    "        file_name = image + '.tif'\n",
    "        label = str(df.loc[image,'label'])\n",
    "        destination = os.path.join(path,label,file_name)\n",
    "        if not os.path.exists(destination):\n",
    "            source = os.path.join(INPUT_DIR + 'train',file_name)\n",
    "            shutil.copyfile(source,destination)"
   ]
  },
  {
   "cell_type": "code",
   "execution_count": 7,
   "metadata": {
    "_uuid": "be4dc5bcd985b336695853c147ac9d62aad2fe4a"
   },
   "outputs": [
    {
     "name": "stdout",
     "output_type": "stream",
     "text": [
      "Found 96000 images belonging to 2 classes.\n",
      "Found 24000 images belonging to 2 classes.\n",
      "{'0': 0, '1': 1}\n"
     ]
    }
   ],
   "source": [
    "#------Generators------------#\n",
    "train_augs = ImageDataGenerator(\n",
    "    rescale=1./255,\n",
    "    horizontal_flip=True,\n",
    "    vertical_flip=True,\n",
    "    rotation_range=90,\n",
    "    zoom_range=0.2, \n",
    "    width_shift_range=0.1,\n",
    "    height_shift_range=0.1,\n",
    "    shear_range=0.05,\n",
    "    channel_shift_range=0.1\n",
    ")\n",
    "\n",
    "\n",
    "val_augs = ImageDataGenerator(rescale=1./255)\n",
    "\n",
    "train_gen = train_augs.flow_from_directory(\n",
    "    train_path,\n",
    "    target_size=(96,96),\n",
    "    batch_size=10,\n",
    "    class_mode='binary')\n",
    "\n",
    "val_gen = val_augs.flow_from_directory(\n",
    "    val_path,\n",
    "    target_size=(96,96),\n",
    "    batch_size=10,\n",
    "    class_mode='binary')\n",
    "print(train_gen.class_indices)"
   ]
  },
  {
   "cell_type": "code",
   "execution_count": 8,
   "metadata": {
    "_uuid": "206e3ec4ae5f54320dd03c6fa8761f47ffb563f2"
   },
   "outputs": [
    {
     "name": "stdout",
     "output_type": "stream",
     "text": [
      "Downloading data from https://github.com/fchollet/deep-learning-models/releases/download/v0.1/vgg19_weights_tf_dim_ordering_tf_kernels_notop.h5\n",
      "80142336/80134624 [==============================] - 1s 0us/step\n",
      "<keras.engine.input_layer.InputLayer object at 0x7f0e293ae4e0> False\n",
      "<keras.layers.convolutional.Conv2D object at 0x7f0e2c466630> False\n",
      "<keras.layers.convolutional.Conv2D object at 0x7f0e2c4663c8> False\n",
      "<keras.layers.pooling.MaxPooling2D object at 0x7f0e28b8c0b8> False\n",
      "<keras.layers.convolutional.Conv2D object at 0x7f0e28b8c860> False\n",
      "<keras.layers.convolutional.Conv2D object at 0x7f0e2516e160> False\n",
      "<keras.layers.pooling.MaxPooling2D object at 0x7f0e2517c2b0> False\n",
      "<keras.layers.convolutional.Conv2D object at 0x7f0e2517c748> True\n",
      "<keras.layers.convolutional.Conv2D object at 0x7f0e25117080> True\n",
      "<keras.layers.convolutional.Conv2D object at 0x7f0e251244e0> True\n",
      "<keras.layers.convolutional.Conv2D object at 0x7f0e25134320> True\n",
      "<keras.layers.pooling.MaxPooling2D object at 0x7f0e2513f278> True\n",
      "<keras.layers.convolutional.Conv2D object at 0x7f0e2513feb8> True\n",
      "<keras.layers.convolutional.Conv2D object at 0x7f0e250da0b8> True\n",
      "<keras.layers.convolutional.Conv2D object at 0x7f0e250e83c8> True\n",
      "<keras.layers.convolutional.Conv2D object at 0x7f0e250f5320> True\n",
      "<keras.layers.pooling.MaxPooling2D object at 0x7f0e2508f1d0> True\n",
      "<keras.layers.convolutional.Conv2D object at 0x7f0e2508f208> True\n",
      "<keras.layers.convolutional.Conv2D object at 0x7f0e2509e5c0> True\n",
      "<keras.layers.convolutional.Conv2D object at 0x7f0e250aa1d0> True\n",
      "<keras.layers.convolutional.Conv2D object at 0x7f0e250c3438> True\n",
      "<keras.layers.pooling.MaxPooling2D object at 0x7f0e25053898> True\n",
      "_________________________________________________________________\n",
      "Layer (type)                 Output Shape              Param #   \n",
      "=================================================================\n",
      "vgg19 (Model)                (None, 3, 3, 512)         20024384  \n",
      "_________________________________________________________________\n",
      "flatten_1 (Flatten)          (None, 4608)              0         \n",
      "_________________________________________________________________\n",
      "dense_1 (Dense)              (None, 1024)              4719616   \n",
      "_________________________________________________________________\n",
      "dropout_1 (Dropout)          (None, 1024)              0         \n",
      "_________________________________________________________________\n",
      "dense_2 (Dense)              (None, 1)                 1025      \n",
      "=================================================================\n",
      "Total params: 24,745,025\n",
      "Trainable params: 24,484,865\n",
      "Non-trainable params: 260,160\n",
      "_________________________________________________________________\n"
     ]
    }
   ],
   "source": [
    "base_model = VGG19(include_top=False,\n",
    "                  input_shape = (96,96,3),\n",
    "                  weights = 'imagenet')\n",
    "\n",
    "for layer in base_model.layers[:-15]:\n",
    "    layer.trainable = False\n",
    "    \n",
    "for layer in base_model.layers:\n",
    "    print(layer,layer.trainable)\n",
    "\n",
    "model = Sequential()\n",
    "model.add(base_model)\n",
    "model.add(Flatten())\n",
    "model.add(Dense(1024,activation='relu'))\n",
    "model.add(Dropout(0.5))\n",
    "model.add(Dense(1,activation='sigmoid'))\n",
    "model.summary()\n",
    "\n",
    "SVG(model_to_dot(model).create(prog='dot', format='svg'))\n",
    "plot_model(model, to_file='model_plot.png', show_shapes=True, show_layer_names=True, expand_nested=True)"
   ]
  },
  {
   "cell_type": "code",
   "execution_count": 9,
   "metadata": {
    "_uuid": "dab0c15897d01047dc8776d4a6daf5fb056d65f6"
   },
   "outputs": [],
   "source": [
    "#-------Callbacks-------------#\n",
    "checkpoint = ModelCheckpoint(\n",
    "    './base.model',\n",
    "    monitor='val_loss',\n",
    "    verbose=1,\n",
    "    save_best_only=True,\n",
    "    mode='min',\n",
    "    save_weights_only=False,\n",
    "    period=1\n",
    ")\n",
    "earlystop = EarlyStopping(\n",
    "    monitor='val_loss',\n",
    "    min_delta=0.001,\n",
    "    patience=10,\n",
    "    verbose=1,\n",
    "    mode='auto'\n",
    ")\n",
    "tensorboard = TensorBoard(\n",
    "    log_dir = './logs',\n",
    "    histogram_freq=0,\n",
    "    batch_size=16,\n",
    "    write_graph=True,\n",
    "    write_grads=True,\n",
    "    write_images=False,\n",
    ")\n",
    "\n",
    "csvlogger = CSVLogger(\n",
    "    filename= \"training_csv.log\",\n",
    "    separator = \",\",\n",
    "    append = False\n",
    ")\n",
    "\n",
    "#lrsched = LearningRateScheduler(step_decay,verbose=1)\n",
    "\n",
    "reduce = ReduceLROnPlateau(\n",
    "    monitor='val_loss',\n",
    "    factor=0.3,\n",
    "    patience=2,\n",
    "    verbose=1, \n",
    "    mode='auto',\n",
    "    cooldown=1 \n",
    ")\n",
    "\n",
    "callbacks = [checkpoint,tensorboard,csvlogger,reduce]"
   ]
  },
  {
   "cell_type": "code",
   "execution_count": 10,
   "metadata": {
    "_uuid": "575ff7e88addfca076d524b845d7ce4851325923"
   },
   "outputs": [
    {
     "name": "stdout",
     "output_type": "stream",
     "text": [
      "Epoch 1/30\n",
      "2000/2000 [==============================] - 302s 151ms/step - loss: 0.4935 - acc: 0.7672 - val_loss: 0.4553 - val_acc: 0.8015\n",
      "\n",
      "Epoch 00001: val_loss improved from inf to 0.45527, saving model to ./base.model\n",
      "Epoch 2/30\n",
      "2000/2000 [==============================] - 298s 149ms/step - loss: 0.3832 - acc: 0.8290 - val_loss: 0.4067 - val_acc: 0.8407\n",
      "\n",
      "Epoch 00002: val_loss improved from 0.45527 to 0.40671, saving model to ./base.model\n",
      "Epoch 3/30\n",
      "2000/2000 [==============================] - 299s 150ms/step - loss: 0.3529 - acc: 0.8467 - val_loss: 0.3003 - val_acc: 0.8739\n",
      "\n",
      "Epoch 00003: val_loss improved from 0.40671 to 0.30034, saving model to ./base.model\n",
      "Epoch 4/30\n",
      " 439/2000 [=====>........................] - ETA: 2:48 - loss: 0.3186 - acc: 0.8702"
     ]
    }
   ],
   "source": [
    "#------------Train The Model----------#\n",
    "#-------Use SGD with momentum and play with the learning rate and momentum----------#\n",
    "#------Good Momentum values: 0.9,0.99,0.5----------#\n",
    "opt = SGD(lr=1e-4,momentum=0.99)\n",
    "opt1 = Adam(lr=2e-4)\n",
    "\n",
    "model.compile(\n",
    "    loss='binary_crossentropy',\n",
    "    optimizer=opt,\n",
    "    metrics=['accuracy']\n",
    ")\n",
    "    \n",
    "history = model.fit_generator(\n",
    "    train_gen, \n",
    "    steps_per_epoch  = 2000, \n",
    "    validation_data  = val_gen,\n",
    "    validation_steps = 2000,\n",
    "    epochs = 30, \n",
    "    verbose = 1,\n",
    "    callbacks=callbacks\n",
    ")"
   ]
  },
  {
   "cell_type": "code",
   "execution_count": 11,
   "metadata": {
    "_uuid": "92c8ecbf0c80a5be3b41bbbf3210d94d8c832a42"
   },
   "outputs": [
    {
     "name": "stdout",
     "output_type": "stream",
     "text": [
      "Validation Accuracy: [0.9126499919891358]\n"
     ]
    },
    {
     "data": {
      "image/png": "[encoded data removed]",
      "text/plain": [
       "<Figure size 1080x360 with 2 Axes>"
      ]
     },
     "metadata": {},
     "output_type": "display_data"
    }
   ],
   "source": [
    "show_final_history(history)\n",
    "print(\"Validation Accuracy: \" + str(history.history['val_acc'][-1:]))"
   ]
  },
  {
   "cell_type": "code",
   "execution_count": 12,
   "metadata": {
    "_uuid": "838074682657d960e42feba3f945d38a8d03472d"
   },
   "outputs": [
    {
     "name": "stdout",
     "output_type": "stream",
     "text": [
      "Found 24000 images belonging to 2 classes.\n",
      "2400/2400 [==============================] - 101s 42ms/step\n"
     ]
    },
    {
     "data": {
      "image/png": "[encoded data removed]",
      "text/plain": [
       "<Figure size 432x288 with 1 Axes>"
      ]
     },
     "metadata": {},
     "output_type": "display_data"
    }
   ],
   "source": [
    "roc_validation_generator = ImageDataGenerator(rescale=1./255).flow_from_directory(val_path,\n",
    "                                                                                  target_size=(96,96),\n",
    "                                                                                  batch_size=10,\n",
    "                                                                                  class_mode='binary',\n",
    "                                                                                  shuffle=False)\n",
    "predictions = model.predict_generator(roc_validation_generator, steps=len(roc_validation_generator), verbose=1)\n",
    "false_positive_rate, true_positive_rate, threshold = roc_curve(roc_validation_generator.classes, predictions)\n",
    "area_under_curve = auc(false_positive_rate, true_positive_rate)\n",
    "\n",
    "plt.plot([0, 1], [0, 1], 'k--')\n",
    "plt.plot(false_positive_rate, true_positive_rate, label='AUC = {:.3f}'.format(area_under_curve))\n",
    "plt.xlabel('False positive rate')\n",
    "plt.ylabel('True positive rate')\n",
    "plt.title('ROC curve')\n",
    "plt.legend(loc='best')\n",
    "plt.savefig(ROC_PLOT_FILE, bbox_inches='tight')\n",
    "plt.show()"
   ]
  },
  {
   "cell_type": "code",
   "execution_count": 13,
   "metadata": {
    "_uuid": "665b87ded2d2bfc2f01ec992f64d8a3bd952bc97"
   },
   "outputs": [],
   "source": [
    "testing_files = glob(os.path.join(INPUT_DIR+'test/','*.tif'))\n",
    "submission = pd.DataFrame()\n",
    "for index in range(0, len(testing_files), TESTING_BATCH_SIZE):\n",
    "    data_frame = pd.DataFrame({'path': testing_files[index:index+TESTING_BATCH_SIZE]})\n",
    "    data_frame['id'] = data_frame.path.map(lambda x: x.split('/')[3].split(\".\")[0])\n",
    "    data_frame['image'] = data_frame['path'].map(imread)\n",
    "    images = np.stack(data_frame.image, axis=0)\n",
    "    predicted_labels = [model.predict(np.expand_dims(image/255.0, axis=0))[0][0] for image in images]\n",
    "    predictions = np.array(predicted_labels)\n",
    "    data_frame['label'] = predictions\n",
    "    submission = pd.concat([submission, data_frame[[\"id\", \"label\"]]])\n",
    "submission.to_csv(KAGGLE_SUBMISSION_FILE, index=False, header=True)"
   ]
  },
  {
   "cell_type": "code",
   "execution_count": 14,
   "metadata": {
    "_uuid": "f70af50009579233fbc8eea65ce7a9e1751a0564"
   },
   "outputs": [],
   "source": []
  }
 ],
 "metadata": {
  "kernelspec": {
   "display_name": "Python 3",
   "language": "python",
   "name": "python3"
  },
  "language_info": {
   "codemirror_mode": {
    "name": "ipython",
    "version": 3
   },
   "file_extension": ".py",
   "mimetype": "text/x-python",
   "name": "python",
   "nbconvert_exporter": "python",
   "pygments_lexer": "ipython3",
   "version": "3.6.6"
  }
 },
 "nbformat": 4,
 "nbformat_minor": 1
}
